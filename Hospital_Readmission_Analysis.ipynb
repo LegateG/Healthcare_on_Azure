{
  "cells": [
    {
      "cell_type": "markdown",
      "metadata": {},
      "source": [
        "# Hospital Readmission Data Analysis\n",
        "This notebook performs data cleaning and exploratory analysis on hospital readmission data using PySpark."
      ]
    },
    {
      "cell_type": "code",
      "execution_count": null,
      "metadata": {},
      "outputs": [],
      "source": [
        "# Initialize Spark session\n",
        "from pyspark.sql import SparkSession\n",
        "spark = SparkSession.builder.appName(\"HospitalReadmissionAnalysis\").getOrCreate()"
      ]
    },
    {
      "cell_type": "code",
      "execution_count": null,
      "metadata": {},
      "outputs": [],
      "source": [
        "# Load raw data from ADLS (replace with actual path)\n",
        "raw_path = \"abfss://<container>@<storage_account>.dfs.core.windows.net/hospital-readmission/raw/patient_data.csv\"\n",
        "df_raw = spark.read.option(\"header\", True).csv(raw_path)\n",
        "df_raw.printSchema()\n",
        "df_raw.show(5)"
      ]
    },
    {
      "cell_type": "code",
      "execution_count": null,
      "metadata": {},
      "outputs": [],
      "source": [
        "# Data cleaning: drop nulls, cast types, normalize columns\n",
        "from pyspark.sql.functions import col\n",
        "\n",
        "# Drop rows with nulls in key columns\n",
        "df_clean = df_raw.dropna(subset=[\"readmitted\", \"age\", \"gender\", \"diag_1\"])\n",
        "\n",
        "# Cast numerical columns\n",
        "df_clean = df_clean.withColumn(\"num_lab_procedures\", col(\"num_lab_procedures\").cast(\"int\"))\n",
        "df_clean = df_clean.withColumn(\"time_in_hospital\", col(\"time_in_hospital\").cast(\"int\"))"
      ]
    },
    {
      "cell_type": "code",
      "execution_count": null,
      "metadata": {},
      "outputs": [],
      "source": [
        "# Save cleaned data to ADLS (replace with actual path)\n",
        "processed_path = \"abfss://<container>@<storage_account>.dfs.core.windows.net/hospital-readmission/processed/cleaned_data.parquet\"\n",
        "df_clean.write.mode(\"overwrite\").parquet(processed_path)"
      ]
    },
    {
      "cell_type": "code",
      "execution_count": null,
      "metadata": {},
      "outputs": [],
      "source": [
        "# Exploratory analysis: readmission rate by age group\n",
        "df_clean.groupBy(\"age\").count().orderBy(\"age\").show()"
      ]
    },
    {
      "cell_type": "code",
      "execution_count": null,
      "metadata": {},
      "outputs": [],
      "source": [
        "# Readmission rate by diagnosis\n",
        "df_clean.groupBy(\"diag_1\", \"readmitted\").count().orderBy(\"count\", ascending=False).show(10)"
      ]
    }
  ],
  "metadata": {
    "kernelspec": {
      "display_name": "Python 3",
      "language": "python",
      "name": "python3"
    },
    "language_info": {
      "name": "python",
      "version": "3.8"
    }
  },
  "nbformat": 4,
  "nbformat_minor": 2
}